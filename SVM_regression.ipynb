{
  "nbformat": 4,
  "nbformat_minor": 0,
  "metadata": {
    "colab": {
      "provenance": []
    },
    "kernelspec": {
      "name": "python3",
      "display_name": "Python 3"
    },
    "language_info": {
      "name": "python"
    }
  },
  "cells": [
    {
      "cell_type": "code",
      "execution_count": null,
      "metadata": {
        "id": "S0RYN8YHV5lO"
      },
      "outputs": [],
      "source": [
        "import numpy as np\n",
        "import pandas as pd\n",
        "import matplotlib.pyplot as plt \n",
        "from sklearn import datasets, svm \n",
        "from sklearn.model_selection import train_test_split \n",
        "from __future__ import division, print_function\n",
        "%matplotlib inline"
      ]
    },
    {
      "cell_type": "code",
      "source": [
        "#Importing dataset and preprocessing:\n",
        "dataframe = pd.read_csv('Hawks.csv') \n",
        "print(dataframe)"
      ],
      "metadata": {
        "colab": {
          "base_uri": "https://localhost:8080/"
        },
        "id": "p68v9-N-WpnH",
        "outputId": "fd6f6704-f6e6-49de-d432-eee4367f3496"
      },
      "execution_count": null,
      "outputs": [
        {
          "output_type": "stream",
          "name": "stdout",
          "text": [
            "     Unnamed: 0  Month  Day  Year CaptureTime ReleaseTime  BandNumber Species  \\\n",
            "0             1      9   19  1992       13:30         NaN   877-76317      RT   \n",
            "1             2      9   22  1992       10:30               877-76318      RT   \n",
            "2             3      9   23  1992       12:45               877-76319      RT   \n",
            "3             4      9   23  1992       10:50               745-49508      CH   \n",
            "4             5      9   27  1992       11:15              1253-98801      SS   \n",
            "..          ...    ...  ...   ...         ...         ...         ...     ...   \n",
            "903         904     11   18  2003       14:44              1177-04777      RT   \n",
            "904         905     11   19  2003       10:18               803-05985      SS   \n",
            "905         906     11   19  2003       12:02              1807-53145      RT   \n",
            "906         907     11   20  2003        9:56              1177-04778      RT   \n",
            "907         908     11   20  2003       13:30              1207-53145      RT   \n",
            "\n",
            "    Age  Sex   Wing  Weight  Culmen  Hallux  Tail  StandardTail  Tarsus  \\\n",
            "0     I  NaN  385.0   920.0    25.7    30.1   219           NaN     NaN   \n",
            "1     I  NaN  376.0   930.0     NaN     NaN   221           NaN     NaN   \n",
            "2     I  NaN  381.0   990.0    26.7    31.3   235           NaN     NaN   \n",
            "3     I    F  265.0   470.0    18.7    23.5   220           NaN     NaN   \n",
            "4     I    F  205.0   170.0    12.5    14.3   157           NaN     NaN   \n",
            "..   ..  ...    ...     ...     ...     ...   ...           ...     ...   \n",
            "903   I  NaN  380.0  1525.0    26.0    27.6   224         227.0     NaN   \n",
            "904   I    F  190.0   175.0    12.7    15.4   150         153.0     NaN   \n",
            "905   I  NaN  360.0   790.0    21.9    27.6   211         215.0     NaN   \n",
            "906   I  NaN  369.0   860.0    25.2    28.0   207         210.0     NaN   \n",
            "907   A  NaN  199.0  1290.0    28.7    32.1   222         226.0     NaN   \n",
            "\n",
            "     WingPitFat  KeelFat  Crop  \n",
            "0           NaN      NaN   NaN  \n",
            "1           NaN      NaN   NaN  \n",
            "2           NaN      NaN   NaN  \n",
            "3           NaN      NaN   NaN  \n",
            "4           NaN      NaN   NaN  \n",
            "..          ...      ...   ...  \n",
            "903         NaN      3.0   0.0  \n",
            "904         NaN      4.0   0.0  \n",
            "905         NaN      2.0   0.0  \n",
            "906         NaN      2.0   0.0  \n",
            "907         NaN      1.0   0.0  \n",
            "\n",
            "[908 rows x 20 columns]\n"
          ]
        }
      ]
    },
    {
      "cell_type": "code",
      "source": [
        "columns = ['Species','Wing', 'Weight','Tail']\n",
        "dataframe = dataframe[columns]\n",
        "print(dataframe)"
      ],
      "metadata": {
        "colab": {
          "base_uri": "https://localhost:8080/"
        },
        "id": "jFFfmoNZiFiT",
        "outputId": "866b68b2-994e-4d01-c74a-c7c58190fd13"
      },
      "execution_count": null,
      "outputs": [
        {
          "output_type": "stream",
          "name": "stdout",
          "text": [
            "    Species   Wing  Weight  Tail\n",
            "0        RT  385.0   920.0   219\n",
            "1        RT  376.0   930.0   221\n",
            "2        RT  381.0   990.0   235\n",
            "3        CH  265.0   470.0   220\n",
            "4        SS  205.0   170.0   157\n",
            "..      ...    ...     ...   ...\n",
            "903      RT  380.0  1525.0   224\n",
            "904      SS  190.0   175.0   150\n",
            "905      RT  360.0   790.0   211\n",
            "906      RT  369.0   860.0   207\n",
            "907      RT  199.0  1290.0   222\n",
            "\n",
            "[908 rows x 4 columns]\n"
          ]
        }
      ]
    },
    {
      "cell_type": "code",
      "source": [
        "#Checking for dublicate values: \n",
        "dups= dataframe.duplicated()\n",
        "# report if there are any duplicates\n",
        "print(dups.any()) # list all duplicate rows \n",
        "print(dataframe [dups])      #wrangling"
      ],
      "metadata": {
        "colab": {
          "base_uri": "https://localhost:8080/"
        },
        "id": "XBQem68_a8t_",
        "outputId": "08fe7d12-43f9-4798-e1e4-8ab7a1f0b8e3"
      },
      "execution_count": null,
      "outputs": [
        {
          "output_type": "stream",
          "name": "stdout",
          "text": [
            "True\n",
            "    Species   Wing  Weight  Tail\n",
            "332      RT  368.0  1244.0   220\n",
            "430      SS  202.0   180.0   160\n"
          ]
        }
      ]
    },
    {
      "cell_type": "code",
      "source": [
        "#Deleting the dublicate values: \n",
        "dataframe.drop_duplicates (inplace=True)"
      ],
      "metadata": {
        "colab": {
          "base_uri": "https://localhost:8080/"
        },
        "id": "aSHbvbcXbQGJ",
        "outputId": "4e29ce1e-6650-4a13-f968-bc1019fa5933"
      },
      "execution_count": null,
      "outputs": [
        {
          "output_type": "stream",
          "name": "stderr",
          "text": [
            "<ipython-input-40-173570eb4dfe>:2: SettingWithCopyWarning: \n",
            "A value is trying to be set on a copy of a slice from a DataFrame\n",
            "\n",
            "See the caveats in the documentation: https://pandas.pydata.org/pandas-docs/stable/user_guide/indexing.html#returning-a-view-versus-a-copy\n",
            "  dataframe.drop_duplicates (inplace=True)\n"
          ]
        }
      ]
    },
    {
      "cell_type": "code",
      "source": [
        "#Checking for null values if any: \n",
        "print(dataframe.isnull().sum())"
      ],
      "metadata": {
        "colab": {
          "base_uri": "https://localhost:8080/"
        },
        "id": "kbZkOX6SbZtq",
        "outputId": "d512483c-89d1-4a6e-eda1-9bf16545b065"
      },
      "execution_count": null,
      "outputs": [
        {
          "output_type": "stream",
          "name": "stdout",
          "text": [
            "Species     0\n",
            "Wing        1\n",
            "Weight     10\n",
            "Tail        0\n",
            "dtype: int64\n"
          ]
        }
      ]
    },
    {
      "cell_type": "code",
      "source": [
        "#Deleting the rows that has null values: \n",
        "df= dataframe.dropna()"
      ],
      "metadata": {
        "id": "P4tUngWTby13"
      },
      "execution_count": null,
      "outputs": []
    },
    {
      "cell_type": "code",
      "source": [
        "print(df)\n",
        "print(df.isnull().sum())"
      ],
      "metadata": {
        "colab": {
          "base_uri": "https://localhost:8080/"
        },
        "id": "1slfS63Xb73Q",
        "outputId": "0a66c182-497a-4a31-e727-e39a110ea564"
      },
      "execution_count": null,
      "outputs": [
        {
          "output_type": "stream",
          "name": "stdout",
          "text": [
            "    Species   Wing  Weight  Tail\n",
            "0        RT  385.0   920.0   219\n",
            "1        RT  376.0   930.0   221\n",
            "2        RT  381.0   990.0   235\n",
            "3        CH  265.0   470.0   220\n",
            "4        SS  205.0   170.0   157\n",
            "..      ...    ...     ...   ...\n",
            "903      RT  380.0  1525.0   224\n",
            "904      SS  190.0   175.0   150\n",
            "905      RT  360.0   790.0   211\n",
            "906      RT  369.0   860.0   207\n",
            "907      RT  199.0  1290.0   222\n",
            "\n",
            "[895 rows x 4 columns]\n",
            "Species    0\n",
            "Wing       0\n",
            "Weight     0\n",
            "Tail       0\n",
            "dtype: int64\n"
          ]
        }
      ]
    },
    {
      "cell_type": "code",
      "source": [
        "#Creating Training and Testing sets for Evaluation:\n",
        "x = df.iloc[:, [1,3]].values\n",
        "y_code= df.iloc[:, 0].values\n",
        "y = []\n",
        "for i in y_code:\n",
        "  if i=='RT':\n",
        "    y.append(0)\n",
        "  elif i == 'ss':\n",
        "    y.append(1)\n",
        "  else:\n",
        "    y.append(2)\n",
        "#df[ 'Species'].unique()\n",
        "x_train,x_test,y_train,y_test = train_test_split(x, y, test_size = 0.2, random_state= 25)"
      ],
      "metadata": {
        "id": "Dhm6hA-3cCwP"
      },
      "execution_count": null,
      "outputs": []
    },
    {
      "cell_type": "code",
      "source": [
        "x_reg = df.iloc[:, [1]].values \n",
        "y_reg = np.reshape(y, (-1, 1))\n",
        "x_train_reg, x_test_reg, y_train_reg, y_test_reg = train_test_split(x_reg, y_reg, test_size = 0.2, random_state = 25)"
      ],
      "metadata": {
        "id": "LYMOPqjIdL3O"
      },
      "execution_count": null,
      "outputs": []
    },
    {
      "cell_type": "code",
      "source": [
        "from sklearn.preprocessing import StandardScaler\n",
        "Stds_x = StandardScaler()\n",
        "Stds_y= StandardScaler()\n",
        "x_1 = Stds_x.fit_transform(x_reg)\n",
        "y_p = Stds_y.fit_transform(y_reg)"
      ],
      "metadata": {
        "id": "LWVo_a25dX2e"
      },
      "execution_count": null,
      "outputs": []
    },
    {
      "cell_type": "code",
      "source": [
        "from sklearn.svm import SVR\n",
        "regressor_linear = SVR(kernel= 'linear')\n",
        "regressor_linear.fit(x_train_reg, y_train_reg)\n",
        "print(\"Kernel = linear\") \n",
        "print(\"Accuracy obtained :\", regressor_linear.score(x_test_reg, y_test_reg), \"\\n\")\n",
        "\n",
        "regressor_poly= SVR(kernel ='poly')\n",
        "regressor_poly.fit(x_train_reg, y_train_reg)\n",
        "print(\"Kernel Poly\")\n",
        "print(\"Accuracy obtained\", regressor_poly.score(x_test_reg, y_test_reg), \"\\n\")\n",
        "\n",
        "regressor_rbf= SVR(kernel ='rbf')\n",
        "regressor_rbf.fit(x_train_reg, y_train_reg)\n",
        "print(\"Kernel rbf\")\n",
        "print(\"Accuracy obtained :\", regressor_rbf.score (x_test_reg, y_test_reg), \"\\n\")"
      ],
      "metadata": {
        "colab": {
          "base_uri": "https://localhost:8080/"
        },
        "id": "dWLerEf3eCWA",
        "outputId": "9386617e-4fc7-4a49-8a62-521a89714370"
      },
      "execution_count": null,
      "outputs": [
        {
          "output_type": "stream",
          "name": "stderr",
          "text": [
            "/usr/local/lib/python3.9/dist-packages/sklearn/utils/validation.py:1143: DataConversionWarning: A column-vector y was passed when a 1d array was expected. Please change the shape of y to (n_samples, ), for example using ravel().\n",
            "  y = column_or_1d(y, warn=True)\n"
          ]
        },
        {
          "output_type": "stream",
          "name": "stdout",
          "text": [
            "Kernel = linear\n",
            "Accuracy obtained : 0.9058027039277663 \n",
            "\n"
          ]
        },
        {
          "output_type": "stream",
          "name": "stderr",
          "text": [
            "/usr/local/lib/python3.9/dist-packages/sklearn/utils/validation.py:1143: DataConversionWarning: A column-vector y was passed when a 1d array was expected. Please change the shape of y to (n_samples, ), for example using ravel().\n",
            "  y = column_or_1d(y, warn=True)\n"
          ]
        },
        {
          "output_type": "stream",
          "name": "stdout",
          "text": [
            "Kernel Poly\n",
            "Accuracy obtained 0.8717935100777878 \n",
            "\n",
            "Kernel rbf\n",
            "Accuracy obtained : 0.9233656075574972 \n",
            "\n"
          ]
        },
        {
          "output_type": "stream",
          "name": "stderr",
          "text": [
            "/usr/local/lib/python3.9/dist-packages/sklearn/utils/validation.py:1143: DataConversionWarning: A column-vector y was passed when a 1d array was expected. Please change the shape of y to (n_samples, ), for example using ravel().\n",
            "  y = column_or_1d(y, warn=True)\n"
          ]
        }
      ]
    },
    {
      "cell_type": "code",
      "source": [
        "print(regressor_linear.support_vectors_)"
      ],
      "metadata": {
        "colab": {
          "base_uri": "https://localhost:8080/"
        },
        "id": "Ak1LyOKje1fM",
        "outputId": "e98a21dc-870c-4e21-97bd-07bd1d3d53d7"
      },
      "execution_count": null,
      "outputs": [
        {
          "output_type": "stream",
          "name": "stdout",
          "text": [
            "[[202. ]\n",
            " [196. ]\n",
            " [194. ]\n",
            " [412. ]\n",
            " [405. ]\n",
            " [410. ]\n",
            " [366. ]\n",
            " [209. ]\n",
            " [205. ]\n",
            " [366. ]\n",
            " [375. ]\n",
            " [435. ]\n",
            " [377. ]\n",
            " [171. ]\n",
            " [194. ]\n",
            " [213. ]\n",
            " [199. ]\n",
            " [369. ]\n",
            " [208. ]\n",
            " [409. ]\n",
            " [372. ]\n",
            " [253. ]\n",
            " [345. ]\n",
            " [400. ]\n",
            " [372. ]\n",
            " [355. ]\n",
            " [170. ]\n",
            " [362. ]\n",
            " [377. ]\n",
            " [361. ]\n",
            " [204. ]\n",
            " [163. ]\n",
            " [480. ]\n",
            " [410. ]\n",
            " [360. ]\n",
            " [160. ]\n",
            " [450. ]\n",
            " [408. ]\n",
            " [202. ]\n",
            " [354. ]\n",
            " [373. ]\n",
            " [400. ]\n",
            " [160. ]\n",
            " [369. ]\n",
            " [416. ]\n",
            " [414. ]\n",
            " [161. ]\n",
            " [374. ]\n",
            " [378. ]\n",
            " [200. ]\n",
            " [260. ]\n",
            " [223. ]\n",
            " [400. ]\n",
            " [197. ]\n",
            " [200. ]\n",
            " [368. ]\n",
            " [370. ]\n",
            " [405. ]\n",
            " [204. ]\n",
            " [405. ]\n",
            " [370. ]\n",
            " [235. ]\n",
            " [355. ]\n",
            " [196. ]\n",
            " [209. ]\n",
            " [401. ]\n",
            " [243. ]\n",
            " [410. ]\n",
            " [159. ]\n",
            " [404. ]\n",
            " [197. ]\n",
            " [172. ]\n",
            " [164. ]\n",
            " [167. ]\n",
            " [406. ]\n",
            " [167. ]\n",
            " [161. ]\n",
            " [195. ]\n",
            " [375. ]\n",
            " [371. ]\n",
            " [412. ]\n",
            " [372. ]\n",
            " [376. ]\n",
            " [373. ]\n",
            " [369. ]\n",
            " [358. ]\n",
            " [161. ]\n",
            " [203. ]\n",
            " [403. ]\n",
            " [370. ]\n",
            " [205. ]\n",
            " [417. ]\n",
            " [193. ]\n",
            " [200. ]\n",
            " [365. ]\n",
            " [407. ]\n",
            " [171. ]\n",
            " [158. ]\n",
            " [369. ]\n",
            " [375. ]\n",
            " [258. ]\n",
            " [410. ]\n",
            " [413. ]\n",
            " [362. ]\n",
            " [377. ]\n",
            " [230. ]\n",
            " [377. ]\n",
            " [203. ]\n",
            " [400. ]\n",
            " [252. ]\n",
            " [359. ]\n",
            " [415. ]\n",
            " [313. ]\n",
            " [379. ]\n",
            " [372. ]\n",
            " [420. ]\n",
            " [378. ]\n",
            " [404. ]\n",
            " [415. ]\n",
            " [196. ]\n",
            " [199. ]\n",
            " [197. ]\n",
            " [406. ]\n",
            " [170. ]\n",
            " [370. ]\n",
            " [371. ]\n",
            " [400. ]\n",
            " [403. ]\n",
            " [400. ]\n",
            " [272. ]\n",
            " [373. ]\n",
            " [373. ]\n",
            " [375. ]\n",
            " [205. ]\n",
            " [370. ]\n",
            " [412. ]\n",
            " [208. ]\n",
            " [378. ]\n",
            " [427. ]\n",
            " [213. ]\n",
            " [199. ]\n",
            " [161. ]\n",
            " [365. ]\n",
            " [478. ]\n",
            " [202. ]\n",
            " [261. ]\n",
            " [370. ]\n",
            " [210. ]\n",
            " [230. ]\n",
            " [369. ]\n",
            " [365. ]\n",
            " [376. ]\n",
            " [165. ]\n",
            " [163. ]\n",
            " [371. ]\n",
            " [165. ]\n",
            " [260. ]\n",
            " [196. ]\n",
            " [162. ]\n",
            " [225. ]\n",
            " [230. ]\n",
            " [349. ]\n",
            " [194. ]\n",
            " [370. ]\n",
            " [412. ]\n",
            " [400. ]\n",
            " [404. ]\n",
            " [371. ]\n",
            " [195. ]\n",
            " [360. ]\n",
            " [419. ]\n",
            " [162. ]\n",
            " [362. ]\n",
            " [196. ]\n",
            " [262. ]\n",
            " [170. ]\n",
            " [260. ]\n",
            " [367. ]\n",
            " [201. ]\n",
            " [165. ]\n",
            " [368. ]\n",
            " [194. ]\n",
            " [409. ]\n",
            " [199. ]\n",
            " [379. ]\n",
            " [377. ]\n",
            " [365. ]\n",
            " [358. ]\n",
            " [361. ]\n",
            " [277. ]\n",
            " [216. ]\n",
            " [195. ]\n",
            " [203. ]\n",
            " [198. ]\n",
            " [172. ]\n",
            " [225. ]\n",
            " [410. ]\n",
            " [405. ]\n",
            " [371. ]\n",
            " [364. ]\n",
            " [378. ]\n",
            " [371. ]\n",
            " [165. ]\n",
            " [404. ]\n",
            " [201. ]\n",
            " [361. ]\n",
            " [420. ]\n",
            " [143. ]\n",
            " [375. ]\n",
            " [253. ]\n",
            " [378. ]\n",
            " [239. ]\n",
            " [376. ]\n",
            " [435. ]\n",
            " [378. ]\n",
            " [416. ]\n",
            " [375. ]\n",
            " [412. ]\n",
            " [412. ]\n",
            " [265. ]\n",
            " [195. ]\n",
            " [425. ]\n",
            " [364. ]\n",
            " [407. ]\n",
            " [420. ]\n",
            " [378. ]\n",
            " [374. ]\n",
            " [410. ]\n",
            " [412. ]\n",
            " [201. ]\n",
            " [371. ]\n",
            " [370. ]\n",
            " [373. ]\n",
            " [159. ]\n",
            " [360. ]\n",
            " [194. ]\n",
            " [111. ]\n",
            " [160. ]\n",
            " [363. ]\n",
            " [161. ]\n",
            " [160. ]\n",
            " [414. ]\n",
            " [365. ]\n",
            " [375. ]\n",
            " [360. ]\n",
            " [171. ]\n",
            " [422. ]\n",
            " [365. ]\n",
            " [373. ]\n",
            " [372. ]\n",
            " [401. ]\n",
            " [162. ]\n",
            " [237. ]\n",
            " [209. ]\n",
            " [371. ]\n",
            " [375. ]\n",
            " [365. ]\n",
            " [409. ]\n",
            " [343. ]\n",
            " [375. ]\n",
            " [363. ]\n",
            " [356. ]\n",
            " [410. ]\n",
            " [367. ]\n",
            " [423. ]\n",
            " [363. ]\n",
            " [368. ]\n",
            " [369. ]\n",
            " [203. ]\n",
            " [256. ]\n",
            " [199. ]\n",
            " [354. ]\n",
            " [403. ]\n",
            " [401. ]\n",
            " [373. ]\n",
            " [199. ]\n",
            " [378. ]\n",
            " [410. ]\n",
            " [169. ]\n",
            " [370. ]\n",
            " [405. ]\n",
            " [378. ]\n",
            " [416. ]\n",
            " [374. ]\n",
            " [362. ]\n",
            " [197. ]\n",
            " [378. ]\n",
            " [255. ]\n",
            " [320. ]\n",
            " [375. ]\n",
            " [259. ]\n",
            " [402. ]\n",
            " [252. ]\n",
            " [375. ]\n",
            " [408. ]\n",
            " [360. ]\n",
            " [247. ]\n",
            " [209. ]\n",
            " [155. ]\n",
            " [372. ]\n",
            " [203. ]\n",
            " [196. ]\n",
            " [415. ]\n",
            " [378. ]\n",
            " [379. ]\n",
            " [230. ]\n",
            " [169. ]\n",
            " [372. ]\n",
            " [161. ]\n",
            " [370. ]\n",
            " [ 37.2]\n",
            " [193. ]\n",
            " [363. ]\n",
            " [170. ]\n",
            " [400. ]\n",
            " [233. ]\n",
            " [161. ]\n",
            " [218. ]\n",
            " [161. ]\n",
            " [376. ]\n",
            " [156. ]\n",
            " [230. ]\n",
            " [420. ]\n",
            " [407. ]\n",
            " [402. ]\n",
            " [255. ]\n",
            " [363. ]\n",
            " [165. ]\n",
            " [200. ]\n",
            " [367. ]\n",
            " [236. ]\n",
            " [370. ]\n",
            " [250. ]\n",
            " [197. ]\n",
            " [201. ]\n",
            " [157. ]\n",
            " [230. ]\n",
            " [364. ]\n",
            " [194. ]\n",
            " [376. ]\n",
            " [410. ]\n",
            " [220. ]\n",
            " [193. ]\n",
            " [368. ]\n",
            " [160. ]\n",
            " [370. ]\n",
            " [225. ]\n",
            " [375. ]\n",
            " [405. ]\n",
            " [159. ]\n",
            " [376. ]\n",
            " [350. ]\n",
            " [163. ]\n",
            " [172. ]\n",
            " [412. ]\n",
            " [194. ]\n",
            " [254. ]\n",
            " [372. ]\n",
            " [255. ]\n",
            " [363. ]\n",
            " [161. ]\n",
            " [198. ]\n",
            " [371. ]\n",
            " [207. ]\n",
            " [166. ]\n",
            " [161. ]\n",
            " [406. ]\n",
            " [168. ]\n",
            " [170. ]\n",
            " [416. ]\n",
            " [168. ]\n",
            " [199. ]\n",
            " [165. ]\n",
            " [202. ]\n",
            " [265. ]\n",
            " [420. ]\n",
            " [194. ]\n",
            " [406. ]\n",
            " [410. ]\n",
            " [376. ]\n",
            " [368. ]\n",
            " [357. ]\n",
            " [161. ]\n",
            " [370. ]\n",
            " [410. ]\n",
            " [351. ]\n",
            " [336. ]\n",
            " [198. ]\n",
            " [233. ]\n",
            " [417. ]\n",
            " [401. ]\n",
            " [159. ]\n",
            " [354. ]\n",
            " [362. ]\n",
            " [213. ]\n",
            " [374. ]\n",
            " [168. ]\n",
            " [422. ]\n",
            " [422. ]\n",
            " [168. ]\n",
            " [412. ]\n",
            " [400. ]\n",
            " [205. ]\n",
            " [260. ]\n",
            " [254. ]\n",
            " [156. ]\n",
            " [223. ]\n",
            " [412. ]\n",
            " [157. ]\n",
            " [166. ]\n",
            " [161. ]\n",
            " [371. ]\n",
            " [198. ]\n",
            " [418. ]\n",
            " [374. ]\n",
            " [369. ]\n",
            " [198. ]\n",
            " [195. ]\n",
            " [416. ]\n",
            " [162. ]\n",
            " [271. ]\n",
            " [408. ]\n",
            " [351. ]\n",
            " [259. ]\n",
            " [404. ]\n",
            " [215. ]\n",
            " [425. ]\n",
            " [225. ]\n",
            " [201. ]\n",
            " [366. ]\n",
            " [415. ]\n",
            " [410. ]\n",
            " [377. ]\n",
            " [240. ]\n",
            " [372. ]\n",
            " [268. ]\n",
            " [252. ]\n",
            " [369. ]\n",
            " [375. ]\n",
            " [402. ]\n",
            " [372. ]\n",
            " [195. ]\n",
            " [418. ]\n",
            " [359. ]\n",
            " [202. ]\n",
            " [156. ]\n",
            " [375. ]\n",
            " [363. ]\n",
            " [165. ]\n",
            " [205. ]\n",
            " [166. ]\n",
            " [403. ]\n",
            " [166. ]\n",
            " [408. ]\n",
            " [198. ]\n",
            " [220. ]\n",
            " [158. ]\n",
            " [375. ]\n",
            " [378. ]\n",
            " [223. ]\n",
            " [362. ]\n",
            " [377. ]\n",
            " [372. ]\n",
            " [368. ]\n",
            " [360. ]\n",
            " [400. ]\n",
            " [366. ]\n",
            " [266. ]\n",
            " [436. ]\n",
            " [374. ]\n",
            " [163. ]\n",
            " [213. ]\n",
            " [364. ]\n",
            " [445. ]\n",
            " [374. ]\n",
            " [370. ]\n",
            " [241. ]\n",
            " [376. ]\n",
            " [365. ]\n",
            " [227. ]\n",
            " [368. ]\n",
            " [350. ]\n",
            " [400. ]\n",
            " [197. ]\n",
            " [469. ]\n",
            " [159. ]\n",
            " [164. ]\n",
            " [268. ]\n",
            " [375. ]\n",
            " [347. ]\n",
            " [400. ]\n",
            " [352. ]\n",
            " [233. ]\n",
            " [408. ]\n",
            " [169. ]\n",
            " [165. ]\n",
            " [363. ]\n",
            " [167. ]\n",
            " [370. ]\n",
            " [400. ]\n",
            " [265. ]\n",
            " [196. ]\n",
            " [401. ]\n",
            " [204. ]\n",
            " [165. ]\n",
            " [375. ]\n",
            " [375. ]\n",
            " [204. ]\n",
            " [410. ]\n",
            " [193. ]\n",
            " [373. ]\n",
            " [360. ]\n",
            " [367. ]\n",
            " [363. ]\n",
            " [205. ]\n",
            " [233. ]]\n"
          ]
        }
      ]
    },
    {
      "cell_type": "code",
      "source": [
        "len(regressor_linear.support_vectors_)"
      ],
      "metadata": {
        "colab": {
          "base_uri": "https://localhost:8080/"
        },
        "id": "XEgmHVwLfKBx",
        "outputId": "c9f83005-62f8-4b7e-da79-1765d9c54d7c"
      },
      "execution_count": null,
      "outputs": [
        {
          "output_type": "execute_result",
          "data": {
            "text/plain": [
              "516"
            ]
          },
          "metadata": {},
          "execution_count": 58
        }
      ]
    },
    {
      "cell_type": "code",
      "source": [
        "len(regressor_poly.support_vectors_)"
      ],
      "metadata": {
        "colab": {
          "base_uri": "https://localhost:8080/"
        },
        "id": "iwZDQ_b7fkLD",
        "outputId": "29ed4964-feb8-43d1-c211-4e8191101e49"
      },
      "execution_count": null,
      "outputs": [
        {
          "output_type": "execute_result",
          "data": {
            "text/plain": [
              "443"
            ]
          },
          "metadata": {},
          "execution_count": 59
        }
      ]
    },
    {
      "cell_type": "code",
      "source": [
        "print(regressor_rbf.support_vectors_)"
      ],
      "metadata": {
        "colab": {
          "base_uri": "https://localhost:8080/"
        },
        "id": "neyNInT0frpS",
        "outputId": "f2598581-81a8-4358-85a3-b99dfb5f2ea9"
      },
      "execution_count": null,
      "outputs": [
        {
          "output_type": "stream",
          "name": "stdout",
          "text": [
            "[[377. ]\n",
            " [345. ]\n",
            " [480. ]\n",
            " [313. ]\n",
            " [272. ]\n",
            " [349. ]\n",
            " [262. ]\n",
            " [277. ]\n",
            " [143. ]\n",
            " [111. ]\n",
            " [343. ]\n",
            " [320. ]\n",
            " [155. ]\n",
            " [ 37.2]\n",
            " [370. ]\n",
            " [225. ]\n",
            " [350. ]\n",
            " [265. ]\n",
            " [336. ]\n",
            " [271. ]\n",
            " [225. ]\n",
            " [268. ]\n",
            " [156. ]\n",
            " [266. ]\n",
            " [241. ]\n",
            " [227. ]\n",
            " [350. ]\n",
            " [469. ]\n",
            " [268. ]\n",
            " [347. ]\n",
            " [381. ]\n",
            " [265. ]\n",
            " [233. ]]\n"
          ]
        }
      ]
    },
    {
      "cell_type": "code",
      "source": [
        "len(regressor_rbf.support_vectors_)"
      ],
      "metadata": {
        "colab": {
          "base_uri": "https://localhost:8080/"
        },
        "id": "gvWXGPPtf4no",
        "outputId": "aff87221-5880-48f2-8071-85a38df0e0d7"
      },
      "execution_count": null,
      "outputs": [
        {
          "output_type": "execute_result",
          "data": {
            "text/plain": [
              "33"
            ]
          },
          "metadata": {},
          "execution_count": 61
        }
      ]
    },
    {
      "cell_type": "code",
      "source": [
        "#visualization of various kernels:\n",
        "from sklearn.svm import SVR\n",
        "regressor_linear = SVR (kernel ='linear').fit(x_train, y_train) \n",
        "regressor_rbf= SVR(kernel ='rbf', gamma= 0.7).fit(x_train, y_train) \n",
        "regressor_poly= SVR(kernel= 'poly', degree= 3).fit(x_train, y_train)\n",
        "#creating a mesh plot:\n",
        "h = 0.2;\n",
        "x_min, x_max = x[:, 0].min() - 1, x[:, 0].max() + 1\n",
        "y_min, y_max = x[:, 1].min() - 1, x[:, 1].max() + 1\n",
        "xx, yy= np.meshgrid(np.arange(x_min, x_max, h), np.arange(y_min, y_max, h))\n",
        "\n",
        "titles = ['SVR with Linear Kernel', 'SVR with RBF Kernel', 'SVR with Polynomial Kernel']\n",
        "for i, clf in enumerate((regressor_linear, regressor_rbf,regressor_poly)):\n",
        "  plt.figure(i)\n",
        "  z = clf.predict(np.c_[xx.ravel(), yy.ravel()])\n",
        "  z = z.reshape(xx.shape)\n",
        "  plt.contourf(xx, yy, z, cmap= plt.cm.Paired, alpha=0.8)\n",
        "  \n",
        "  plt.scatter(x[:,0], x[:, 1], c=y, cmap = plt.cm.ocean)\n",
        "  plt.xlabel('Wing')\n",
        "  plt.ylabel('Weight')\n",
        "  plt.xlim(xx.min(), xx.max()) \n",
        "  plt.xlim(yy.min(), yy.max())\n",
        "  #plt.xticks(())\n",
        "  #plt.yticks(())\n",
        "  plt.title(titles[i])\n",
        "plt.show()"
      ],
      "metadata": {
        "colab": {
          "base_uri": "https://localhost:8080/",
          "height": 851
        },
        "id": "0BbpK1HTgFkx",
        "outputId": "80f85411-378c-4e89-b2bc-aac4ca6b41a9"
      },
      "execution_count": null,
      "outputs": [
        {
          "output_type": "display_data",
          "data": {
            "text/plain": [
              "<Figure size 432x288 with 1 Axes>"
            ],
            "image/png": "[encoded data removed]"
          },
          "metadata": {
            "needs_background": "light"
          }
        },
        {
          "output_type": "display_data",
          "data": {
            "text/plain": [
              "<Figure size 432x288 with 1 Axes>"
            ],
            "image/png": "[encoded data removed]"
          },
          "metadata": {
            "needs_background": "light"
          }
        },
        {
          "output_type": "display_data",
          "data": {
            "text/plain": [
              "<Figure size 432x288 with 1 Axes>"
            ],
            "image/png": "[encoded data removed]"
          },
          "metadata": {
            "needs_background": "light"
          }
        }
      ]
    },
    {
      "cell_type": "code",
      "source": [],
      "metadata": {
        "id": "sl4gwhrfiDm2"
      },
      "execution_count": null,
      "outputs": []
    }
  ]
}